{
 "cells": [
  {
   "cell_type": "code",
   "execution_count": 1,
   "metadata": {
    "id": "lYp96FxwT1Yw"
   },
   "outputs": [
    {
     "name": "stdout",
     "output_type": "stream",
     "text": [
      "   sentiment                                               text\n",
      "0         -1  @switchfoot http://twitpic.com/2y1zl - Awww, t...\n",
      "1         -1  is upset that he can't update his Facebook by ...\n",
      "2         -1  @Kenichan I dived many times for the ball. Man...\n",
      "3         -1    my whole body feels itchy and like its on fire \n",
      "4         -1  @nationwideclass no, it's not behaving at all....\n"
     ]
    }
   ],
   "source": [
    "import pandas as pd\n",
    "\n",
    "# Load the dataset\n",
    "columns = [\"sentiment\", \"id\", \"date\", \"query\", \"user\", \"text\"]\n",
    "data = pd.read_csv(\"sentiment140.csv\", encoding=\"ISO-8859-1\", names=columns)\n",
    "\n",
    "# Keep only relevant columns\n",
    "data = data[[\"sentiment\", \"text\"]]\n",
    "\n",
    "# Map sentiment labels: 0 (negative), 2 (neutral), 4 (positive) -> (-1, 0, 1)\n",
    "sentiment_map = {0: -1, 2: 0, 4: 1}\n",
    "data[\"sentiment\"] = data[\"sentiment\"].map(sentiment_map)\n",
    "\n",
    "print(data.head())\n"
   ]
  },
  {
   "cell_type": "code",
   "execution_count": 2,
   "metadata": {
    "id": "fBd1rGLbXdpH"
   },
   "outputs": [
    {
     "name": "stderr",
     "output_type": "stream",
     "text": [
      "[nltk_data] Downloading package punkt to C:\\Users\\SHAH\n",
      "[nltk_data]     COMPUTERS\\AppData\\Roaming\\nltk_data...\n",
      "[nltk_data]   Unzipping tokenizers\\punkt.zip.\n"
     ]
    },
    {
     "data": {
      "text/plain": [
       "True"
      ]
     },
     "execution_count": 2,
     "metadata": {},
     "output_type": "execute_result"
    }
   ],
   "source": [
    "import nltk\n",
    "\n",
    "\n",
    "nltk.download('punkt', force=True)\n"
   ]
  },
  {
   "cell_type": "code",
   "execution_count": 3,
   "metadata": {
    "id": "QY4Ad7y3Xjmf"
   },
   "outputs": [
    {
     "name": "stderr",
     "output_type": "stream",
     "text": [
      "[nltk_data] Downloading package punkt to C:\\Users\\SHAH\n",
      "[nltk_data]     COMPUTERS\\AppData\\Roaming\\nltk_data...\n",
      "[nltk_data]   Package punkt is already up-to-date!\n"
     ]
    },
    {
     "data": {
      "text/plain": [
       "True"
      ]
     },
     "execution_count": 3,
     "metadata": {},
     "output_type": "execute_result"
    }
   ],
   "source": [
    "import nltk\n",
    "\n",
    "# Specify the directory where NLTK should look for data\n",
    "nltk.data.path.append('/root/nltk_data')\n",
    "\n",
    "# Download punkt again\n",
    "nltk.download('punkt')\n"
   ]
  },
  {
   "cell_type": "code",
   "execution_count": 4,
   "metadata": {
    "id": "FxKJLrUDV3vZ"
   },
   "outputs": [
    {
     "name": "stderr",
     "output_type": "stream",
     "text": [
      "[nltk_data] Downloading package punkt to C:\\Users\\SHAH\n",
      "[nltk_data]     COMPUTERS\\AppData\\Roaming\\nltk_data...\n",
      "[nltk_data]   Package punkt is already up-to-date!\n",
      "[nltk_data] Downloading package stopwords to C:\\Users\\SHAH\n",
      "[nltk_data]     COMPUTERS\\AppData\\Roaming\\nltk_data...\n",
      "[nltk_data]   Package stopwords is already up-to-date!\n"
     ]
    },
    {
     "data": {
      "text/plain": [
       "True"
      ]
     },
     "execution_count": 4,
     "metadata": {},
     "output_type": "execute_result"
    }
   ],
   "source": [
    "import nltk\n",
    "nltk.download('punkt')\n",
    "nltk.download('stopwords')\n"
   ]
  },
  {
   "cell_type": "code",
   "execution_count": 5,
   "metadata": {
    "id": "tf5_XDBRV79n"
   },
   "outputs": [],
   "source": [
    "def simple_tokenizer(tweet):\n",
    "    # Check if tweet is not empty or NaN\n",
    "    if not isinstance(tweet, str) or tweet.strip() == \"\":\n",
    "        return \"\"\n",
    "\n",
    "    # Remove URLs, mentions, hashtags, and special characters\n",
    "    tweet = re.sub(r\"http\\S+|www\\S+|https\\S+\", \"\", tweet)\n",
    "    tweet = re.sub(r\"@\\w+|#\\w+\", \"\", tweet)\n",
    "    tweet = re.sub(r\"[^A-Za-z\\s]\", \"\", tweet)\n",
    "\n",
    "    # Convert to lowercase and split into words\n",
    "    tokens = tweet.lower().split()\n",
    "\n",
    "    # Remove stopwords\n",
    "    stop_words = set(stopwords.words(\"english\"))\n",
    "    filtered_tokens = [word for word in tokens if word not in stop_words]\n",
    "\n",
    "    return \" \".join(filtered_tokens)\n"
   ]
  },
  {
   "cell_type": "code",
   "execution_count": 6,
   "metadata": {
    "id": "_eCfJpZSY9_d"
   },
   "outputs": [
    {
     "name": "stdout",
     "output_type": "stream",
     "text": [
      "Requirement already satisfied: emoji==2.2.0 in c:\\users\\shah computers\\anaconda3\\lib\\site-packages (2.2.0)\n"
     ]
    }
   ],
   "source": [
    "!pip install emoji==2.2.0"
   ]
  },
  {
   "cell_type": "code",
   "execution_count": 7,
   "metadata": {
    "id": "o62e_re6V-OM"
   },
   "outputs": [
    {
     "name": "stdout",
     "output_type": "stream",
     "text": [
      "After Emoji Translation:\n",
      "0    @switchfoot http://twitpic.com/2y1zl - Awww, t...\n",
      "1    is upset that he can't update his Facebook by ...\n",
      "2    @Kenichan I dived many times for the ball. Man...\n",
      "3      my whole body feels itchy and like its on fire \n",
      "4    @nationwideclass no, it's not behaving at all....\n",
      "Name: cleaned_text, dtype: object\n",
      "\n",
      "After Slang Replacement:\n",
      "0    @switchfoot http://twitpic.com/2y1zl - Awww, t...\n",
      "1    is upset that he can't update his Facebook by ...\n",
      "2    @Kenichan I dived many times for the ball. Man...\n",
      "3       my whole body feels itchy and like its on fire\n",
      "4    @nationwideclass no, it's not behaving at all....\n",
      "Name: cleaned_text, dtype: object\n"
     ]
    }
   ],
   "source": [
    "import emoji\n",
    "\n",
    "# Step 1: Ensure 'cleaned_text' column exists\n",
    "if \"cleaned_text\" not in data.columns:\n",
    "    data[\"cleaned_text\"] = data[\"text\"].fillna(\"\")  # Initialize with the 'text' column or empty strings\n",
    "\n",
    "# Step 2: Translate emojis to text\n",
    "def translate_emojis(tweet):\n",
    "    \"\"\"Convert emojis in the tweet to their textual representation.\"\"\"\n",
    "    return emoji.demojize(tweet)\n",
    "\n",
    "data[\"cleaned_text\"] = data[\"cleaned_text\"].apply(translate_emojis)\n",
    "\n",
    "# Debugging: Check if emojis were converted\n",
    "print(\"After Emoji Translation:\")\n",
    "print(data[\"cleaned_text\"].head())\n",
    "\n",
    "# Step 3: Replace slang\n",
    "slang_dict = {\"u\": \"you\", \"r\": \"are\", \"gr8\": \"great\"}\n",
    "\n",
    "def replace_slang(tweet):\n",
    "    \"\"\"Replace slang words in the tweet based on a predefined slang dictionary.\"\"\"\n",
    "    words = tweet.split()\n",
    "    return \" \".join([slang_dict.get(word, word) for word in words])\n",
    "\n",
    "data[\"cleaned_text\"] = data[\"cleaned_text\"].apply(replace_slang)\n",
    "\n",
    "# Debugging: Check if slang was replaced\n",
    "print(\"\\nAfter Slang Replacement:\")\n",
    "print(data[\"cleaned_text\"].head())\n"
   ]
  },
  {
   "cell_type": "code",
   "execution_count": 8,
   "metadata": {
    "id": "g5mVxST6Y8hQ"
   },
   "outputs": [
    {
     "data": {
      "image/png": "[encoded data removed]",
      "text/plain": [
       "<Figure size 640x480 with 1 Axes>"
      ]
     },
     "metadata": {},
     "output_type": "display_data"
    }
   ],
   "source": [
    "import matplotlib.pyplot as plt\n",
    "\n",
    "# Plot sentiment distribution\n",
    "data[\"sentiment\"].value_counts().plot(kind=\"bar\")\n",
    "plt.title(\"Sentiment Distribution\")\n",
    "plt.xlabel(\"Sentiment\")\n",
    "plt.ylabel(\"Count\")\n",
    "plt.legend()\n",
    "plt.xticks([0,1], ['negative','positive'])\n",
    "plt.show()"
   ]
  },
  {
   "cell_type": "code",
   "execution_count": 9,
   "metadata": {
    "id": "-4BrO7JHZeLF"
   },
   "outputs": [],
   "source": [
    "data.to_csv(\"processed_sentiment140.csv\", index=False)"
   ]
  },
  {
   "cell_type": "markdown",
   "metadata": {
    "id": "T92Js2ZYa8Nh"
   },
   "source": [
    "Loading Preprocessed Data"
   ]
  },
  {
   "cell_type": "code",
   "execution_count": 10,
   "metadata": {
    "id": "bgx33ERJaozD"
   },
   "outputs": [
    {
     "name": "stdout",
     "output_type": "stream",
     "text": [
      "   sentiment                                               text  \\\n",
      "0         -1  @switchfoot http://twitpic.com/2y1zl - Awww, t...   \n",
      "1         -1  is upset that he can't update his Facebook by ...   \n",
      "2         -1  @Kenichan I dived many times for the ball. Man...   \n",
      "3         -1    my whole body feels itchy and like its on fire    \n",
      "4         -1  @nationwideclass no, it's not behaving at all....   \n",
      "\n",
      "                                        cleaned_text  \n",
      "0  @switchfoot http://twitpic.com/2y1zl - Awww, t...  \n",
      "1  is upset that he can't update his Facebook by ...  \n",
      "2  @Kenichan I dived many times for the ball. Man...  \n",
      "3     my whole body feels itchy and like its on fire  \n",
      "4  @nationwideclass no, it's not behaving at all....  \n"
     ]
    }
   ],
   "source": [
    "import pandas as pd\n",
    "\n",
    "# Load the processed dataset\n",
    "data = pd.read_csv(\"processed_sentiment140.csv\")\n",
    "\n",
    "# Ensure the dataset has the necessary columns\n",
    "print(data.head(5))"
   ]
  },
  {
   "cell_type": "code",
   "execution_count": 11,
   "metadata": {
    "id": "W7ZLBh0bbFxg"
   },
   "outputs": [
    {
     "name": "stdout",
     "output_type": "stream",
     "text": [
      "sentiment\n",
      "-1    800000\n",
      " 1    800000\n",
      "Name: count, dtype: int64\n"
     ]
    }
   ],
   "source": [
    "# Verify class distribution\n",
    "print(data[\"sentiment\"].value_counts())\n",
    "\n",
    "# Split into features and labels\n",
    "X = data[\"cleaned_text\"]  # Features (cleaned tweets)\n",
    "y = data[\"sentiment\"]     # Labels (-1, 0, 1)"
   ]
  },
  {
   "cell_type": "markdown",
   "metadata": {
    "id": "iqfkD3AzbfEz"
   },
   "source": [
    "Train Ensemble Learning Models"
   ]
  },
  {
   "cell_type": "code",
   "execution_count": 12,
   "metadata": {
    "id": "KIlCh4NEbkDo"
   },
   "outputs": [
    {
     "name": "stdout",
     "output_type": "stream",
     "text": [
      "0\n"
     ]
    }
   ],
   "source": [
    "# Check for NaN values\n",
    "print(X.isnull().sum())"
   ]
  },
  {
   "cell_type": "code",
   "execution_count": 13,
   "metadata": {
    "id": "n5cbQZEqb-dA"
   },
   "outputs": [
    {
     "name": "stdout",
     "output_type": "stream",
     "text": [
      "Series([], Name: cleaned_text, dtype: object)\n"
     ]
    }
   ],
   "source": [
    "# Display rows with missing values\n",
    "print(X[X.isnull()])"
   ]
  },
  {
   "cell_type": "code",
   "execution_count": 14,
   "metadata": {
    "id": "ATU5e-UtcCQS"
   },
   "outputs": [],
   "source": [
    "X = X.dropna()\n",
    "y = y[X.index]  # Ensure labels (y) match the updated index\n"
   ]
  },
  {
   "cell_type": "code",
   "execution_count": 15,
   "metadata": {
    "id": "kYzN-UvNcGYH"
   },
   "outputs": [],
   "source": [
    "X = X.fillna(\"\")\n"
   ]
  },
  {
   "cell_type": "code",
   "execution_count": 16,
   "metadata": {
    "id": "npg534n2cI3G"
   },
   "outputs": [
    {
     "name": "stdout",
     "output_type": "stream",
     "text": [
      "(1600000, 10000)\n"
     ]
    }
   ],
   "source": [
    "from sklearn.feature_extraction.text import TfidfVectorizer\n",
    "\n",
    "# Convert text to numerical features using TF-IDF\n",
    "vectorizer = TfidfVectorizer(max_features=10000)  # Limit features to top 5000 terms\n",
    "X_tfidf = vectorizer.fit_transform(X)\n",
    "\n",
    "# Check the shape of the resulting feature matrix\n",
    "print(X_tfidf.shape)\n"
   ]
  },
  {
   "cell_type": "markdown",
   "metadata": {
    "id": "YZjzk3n6chYv"
   },
   "source": [
    "Split Data into Training and Testing Sets"
   ]
  },
  {
   "cell_type": "code",
   "execution_count": 17,
   "metadata": {
    "id": "6L30FZ0HciGK"
   },
   "outputs": [
    {
     "name": "stdout",
     "output_type": "stream",
     "text": [
      "(512000, 10000) (128000, 10000)\n"
     ]
    }
   ],
   "source": [
    "from sklearn.preprocessing import LabelEncoder\n",
    "from sklearn.model_selection import train_test_split\n",
    "# Reduce dataset size \n",
    "reduced_data = data.sample(frac=0.4, random_state=42)\n",
    "\n",
    "# Separate features and labels\n",
    "X_reduced = reduced_data[\"cleaned_text\"]\n",
    "y_reduced = reduced_data[\"sentiment\"]\n",
    "\n",
    "# Vectorize the reduced dataset\n",
    "X_tfidf_reduced = vectorizer.fit_transform(X_reduced)\n",
    "\n",
    "# Split into training and test sets\n",
    "X_train, X_test, y_train, y_test = train_test_split(X_tfidf_reduced, y_reduced, test_size=0.2, random_state=42)\n",
    "\n",
    "print(X_train.shape, X_test.shape)  # Check the split sizes\n"
   ]
  },
  {
   "cell_type": "markdown",
   "metadata": {
    "id": "Xv8stVmKcwLm"
   },
   "source": [
    " Train Random Forest Model"
   ]
  },
  {
   "cell_type": "code",
   "execution_count": 18,
   "metadata": {
    "id": "iDuokmEIcmht"
   },
   "outputs": [
    {
     "name": "stdout",
     "output_type": "stream",
     "text": [
      "Random Forest Accuracy: 0.780234375\n",
      "              precision    recall  f1-score   support\n",
      "\n",
      "          -1       0.77      0.80      0.78     63910\n",
      "           1       0.79      0.76      0.78     64090\n",
      "\n",
      "    accuracy                           0.78    128000\n",
      "   macro avg       0.78      0.78      0.78    128000\n",
      "weighted avg       0.78      0.78      0.78    128000\n",
      "\n"
     ]
    }
   ],
   "source": [
    "from sklearn.ensemble import RandomForestClassifier\n",
    "from sklearn.metrics import classification_report, accuracy_score\n",
    "\n",
    "# Train Random Forest Classifier\n",
    "rf_model = RandomForestClassifier(class_weight='balanced',n_estimators=100, random_state=42)\n",
    "rf_model.fit(X_train, y_train)\n",
    "\n",
    "# Evaluate the model\n",
    "y_pred = rf_model.predict(X_test)\n",
    "print(\"Random Forest Accuracy:\", accuracy_score(y_test, y_pred))\n",
    "print(classification_report(y_test, y_pred))\n"
   ]
  },
  {
   "cell_type": "markdown",
   "metadata": {
    "id": "Pa_NKffpc5wo"
   },
   "source": [
    " Train XGBoost Model"
   ]
  },
  {
   "cell_type": "code",
   "execution_count": 19,
   "metadata": {
    "id": "byu3-5KYczdp"
   },
   "outputs": [
    {
     "name": "stderr",
     "output_type": "stream",
     "text": [
      "C:\\Users\\SHAH COMPUTERS\\anaconda3\\Lib\\site-packages\\xgboost\\core.py:158: UserWarning: [22:00:20] WARNING: C:\\buildkite-agent\\builds\\buildkite-windows-cpu-autoscaling-group-i-0015a694724fa8361-1\\xgboost\\xgboost-ci-windows\\src\\learner.cc:740: \n",
      "Parameters: { \"use_label_encoder\" } are not used.\n",
      "\n",
      "  warnings.warn(smsg, UserWarning)\n"
     ]
    },
    {
     "name": "stdout",
     "output_type": "stream",
     "text": [
      "XGBoost Accuracy: 0.73428125\n",
      "              precision    recall  f1-score   support\n",
      "\n",
      "           0       0.84      0.58      0.69     63910\n",
      "           1       0.68      0.89      0.77     64090\n",
      "\n",
      "    accuracy                           0.73    128000\n",
      "   macro avg       0.76      0.73      0.73    128000\n",
      "weighted avg       0.76      0.73      0.73    128000\n",
      "\n"
     ]
    }
   ],
   "source": [
    "# Map labels from [-1, 1] to [0, 1]\n",
    "y_train_mapped = y_train.map({-1: 0, 1: 1})\n",
    "y_test_mapped = y_test.map({-1: 0, 1: 1})\n",
    "\n",
    "# Train XGBoost Classifier\n",
    "from xgboost import XGBClassifier\n",
    "from sklearn.metrics import accuracy_score, classification_report\n",
    "\n",
    "xgb_model = XGBClassifier(scale_pos_weight=1.5, use_label_encoder=False, eval_metric=\"logloss\")\n",
    "xgb_model.fit(X_train, y_train_mapped)\n",
    "\n",
    "# Evaluate the model\n",
    "y_pred_xgb = xgb_model.predict(X_test)\n",
    "print(\"XGBoost Accuracy:\", accuracy_score(y_test_mapped, y_pred_xgb))\n",
    "print(classification_report(y_test_mapped, y_pred_xgb))\n",
    "\n"
   ]
  },
  {
   "cell_type": "code",
   "execution_count": 37,
   "metadata": {
    "id": "erIkF3XJY9O0"
   },
   "outputs": [
    {
     "name": "stderr",
     "output_type": "stream",
     "text": [
      "C:\\Users\\SHAH COMPUTERS\\anaconda3\\Lib\\site-packages\\xgboost\\core.py:158: UserWarning: [23:58:36] WARNING: C:\\buildkite-agent\\builds\\buildkite-windows-cpu-autoscaling-group-i-0015a694724fa8361-1\\xgboost\\xgboost-ci-windows\\src\\learner.cc:740: \n",
      "Parameters: { \"use_label_encoder\" } are not used.\n",
      "\n",
      "  warnings.warn(smsg, UserWarning)\n"
     ]
    },
    {
     "name": "stdout",
     "output_type": "stream",
     "text": [
      "Voting Classifier Accuracy: 0.758328125\n",
      "Classification Report:\n",
      "               precision    recall  f1-score   support\n",
      "\n",
      "           0       0.74      0.79      0.76     63910\n",
      "           1       0.78      0.73      0.75     64090\n",
      "\n",
      "    accuracy                           0.76    128000\n",
      "   macro avg       0.76      0.76      0.76    128000\n",
      "weighted avg       0.76      0.76      0.76    128000\n",
      "\n"
     ]
    }
   ],
   "source": [
    "from sklearn.ensemble import VotingClassifier\n",
    "from sklearn.metrics import accuracy_score, classification_report\n",
    "\n",
    "# Reduce dataset size for fitting\n",
    "X_train_sample = X_train[:50000]  # Use smaller training data\n",
    "y_train_sample = y_train_mapped[:50000]\n",
    "\n",
    "# Use hard voting for faster predictions\n",
    "voting_clf = VotingClassifier(estimators=[\n",
    "    ('rf', rf_model),  # Pre-trained Random Forest\n",
    "    ('xgb', xgb_model)  # Pre-trained XGBoost\n",
    "], voting='hard')\n",
    "\n",
    "# Fit the VotingClassifier on the smaller dataset\n",
    "voting_clf.fit(X_train_sample, y_train_sample)\n",
    "\n",
    "# Predict on the full test set\n",
    "y_pred_voting = voting_clf.predict(X_test)\n",
    "\n",
    "# Evaluate the VotingClassifier\n",
    "print(\"Voting Classifier Accuracy:\", accuracy_score(y_test_mapped, y_pred_voting))\n",
    "print(\"Classification Report:\\n\", classification_report(y_test_mapped, y_pred_voting))\n"
   ]
  },
  {
   "cell_type": "code",
   "execution_count": 26,
   "metadata": {
    "id": "PTIIQP2GDDgO"
   },
   "outputs": [
    {
     "name": "stdout",
     "output_type": "stream",
     "text": [
      "Model saved as randomforest_sentiment_model.pkl\n"
     ]
    }
   ],
   "source": [
    "import joblib\n",
    "\n",
    "# Save the model\n",
    "joblib.dump(rf_model, \"randomforest_sentiment_model.pkl\")\n",
    "print(\"Model saved as randomforest_sentiment_model.pkl\")\n"
   ]
  },
  {
   "cell_type": "code",
   "execution_count": 27,
   "metadata": {
    "id": "i1nUC4o2IjO_"
   },
   "outputs": [
    {
     "name": "stdout",
     "output_type": "stream",
     "text": [
      "Model loaded successfully\n"
     ]
    }
   ],
   "source": [
    "# Load the saved model\n",
    "rf_model = joblib.load(\"randomforest_sentiment_model.pkl\")\n",
    "print(\"Model loaded successfully\")\n"
   ]
  },
  {
   "cell_type": "code",
   "execution_count": 28,
   "metadata": {
    "id": "QF44ugQ6ImuU"
   },
   "outputs": [
    {
     "data": {
      "image/png": "[encoded data removed]",
      "text/plain": [
       "<Figure size 1000x800 with 1 Axes>"
      ]
     },
     "metadata": {},
     "output_type": "display_data"
    }
   ],
   "source": [
    "import matplotlib.pyplot as plt\n",
    "import numpy as np\n",
    "\n",
    "# Get feature importance from the Random Forest model\n",
    "feature_importances = rf_model.feature_importances_\n",
    "\n",
    "# Plot the top 20 important features\n",
    "top_n = 20  # Adjust as needed\n",
    "indices = np.argsort(feature_importances)[-top_n:]  # Indices of top features\n",
    "\n",
    "plt.figure(figsize=(10, 8))\n",
    "plt.barh(range(len(indices)), feature_importances[indices], align=\"center\")\n",
    "plt.title(\"Top 20 Feature Importances (Random Forest)\")\n",
    "plt.xlabel(\"Importance Score\")\n",
    "plt.ylabel(\"Feature Index\")\n",
    "plt.show()\n"
   ]
  },
  {
   "cell_type": "code",
   "execution_count": 29,
   "metadata": {
    "id": "kRa_7fW2Ip4N"
   },
   "outputs": [
    {
     "data": {
      "image/png": "[encoded data removed]",
      "text/plain": [
       "<Figure size 640x480 with 2 Axes>"
      ]
     },
     "metadata": {},
     "output_type": "display_data"
    }
   ],
   "source": [
    "from sklearn.metrics import confusion_matrix, ConfusionMatrixDisplay\n",
    "\n",
    "# Generate confusion matrix\n",
    "cm = confusion_matrix(y_test, rf_model.predict(X_test))\n",
    "\n",
    "# Plot confusion matrix\n",
    "disp = ConfusionMatrixDisplay(confusion_matrix=cm, display_labels=[\"Negative (-1)\", \"Positive (1)\"])\n",
    "disp.plot(cmap=plt.cm.Blues)\n",
    "plt.title(\"Confusion Matrix (Random Forest)\")\n",
    "plt.show()\n"
   ]
  },
  {
   "cell_type": "code",
   "execution_count": 41,
   "metadata": {
    "id": "0qkA5zVRIsis"
   },
   "outputs": [
    {
     "name": "stdout",
     "output_type": "stream",
     "text": [
      "Predicted Sentiments (Random Forest): [1]\n"
     ]
    }
   ],
   "source": [
    "# Example new text samples\n",
    "new_samples = [\"this product is normal!\"]\n",
    "\n",
    "# Convert new samples to TF-IDF features\n",
    "new_samples_tfidf = vectorizer.transform(new_samples)\n",
    "\n",
    "# Predict sentiments using Random Forest\n",
    "predictions = rf_model.predict(new_samples_tfidf)\n",
    "\n",
    "# Print the raw predictions\n",
    "print(\"Predicted Sentiments (Random Forest):\", predictions)\n"
   ]
  },
  {
   "cell_type": "code",
   "execution_count": null,
   "metadata": {},
   "outputs": [],
   "source": []
  }
 ],
 "metadata": {
  "colab": {
   "provenance": []
  },
  "kernelspec": {
   "display_name": "Python 3 (ipykernel)",
   "language": "python",
   "name": "python3"
  },
  "language_info": {
   "codemirror_mode": {
    "name": "ipython",
    "version": 3
   },
   "file_extension": ".py",
   "mimetype": "text/x-python",
   "name": "python",
   "nbconvert_exporter": "python",
   "pygments_lexer": "ipython3",
   "version": "3.12.4"
  }
 },
 "nbformat": 4,
 "nbformat_minor": 4
}
